{
 "cells": [
  {
   "cell_type": "markdown",
   "id": "fee2e28d-ed70-467d-801e-125ff4b00457",
   "metadata": {},
   "source": [
    "## Water Quality Analysis"
   ]
  },
  {
   "cell_type": "markdown",
   "id": "77115e66-e62b-4a2c-a8b1-8ea751deef6c",
   "metadata": {},
   "source": [
    "#### <u> Drinking water potability </u>\n"
   ]
  },
  {
   "cell_type": "markdown",
   "id": "6ce7b760-6473-4279-bc23-26a3d01396d6",
   "metadata": {},
   "source": [
    "\n",
    "#### <u> Context </u>\n",
    "\n",
    "Access to safe drinking-water is essential to health, a basic human right and a component of effective policy for health protection. This is important as a health and development issue at a national, regional and local level. In some regions, it has been shown that investments in water supply and sanitation can yield a net economic benefit, since the reductions in adverse health effects and health care costs outweigh the costs of undertaking the interventions.\n"
   ]
  },
  {
   "cell_type": "markdown",
   "id": "22e10ca2-cd63-4635-9113-b74998397343",
   "metadata": {},
   "source": [
    "#### <u> Content </u>\n",
    "\n",
    "The water_potability.csv file contains water quality metrics for 3276 different water bodies.\n",
    "\n",
    "<b> 1. pH value: </b> \n",
    "PH is an important parameter in evaluating the acid–base balance of water. It is also the indicator of acidic or alkaline condition of water status. WHO has recommended maximum permissible limit of pH from 6.5 to 8.5. The current investigation ranges were 6.52–6.83 which are in the range of WHO standards.\n",
    "\n",
    "<b> 2. Hardness: </b> \n",
    "Hardness is mainly caused by calcium and magnesium salts. These salts are dissolved from geologic deposits through which water travels. The length of time water is in contact with hardness producing material helps determine how much hardness there is in raw water. Hardness was originally defined as the capacity of water to precipitate soap caused by Calcium and Magnesium.\n",
    "\n",
    "<b> 3. Solids (Total dissolved solids - TDS): </b> \n",
    "Water has the ability to dissolve a wide range of inorganic and some organic minerals or salts such as potassium, calcium, sodium, bicarbonates, chlorides, magnesium, sulfates etc. These minerals produced un-wanted taste and diluted color in appearance of water. This is the important parameter for the use of water. The water with high TDS value indicates that water is highly mineralized. Desirable limit for TDS is 500 mg/l and maximum limit is 1000 mg/l which prescribed for drinking purpose.\n",
    "\n",
    "<b> 4. Chloramines: </b> \n",
    "Chlorine and chloramine are the major disinfectants used in public water systems. Chloramines are most commonly formed when ammonia is added to chlorine to treat drinking water. Chlorine levels up to 4 milligrams per liter (mg/L or 4 parts per million (ppm)) are considered safe in drinking water.\n",
    "\n",
    "<b> 5. Sulfate: </b> \n",
    "Sulfates are naturally occurring substances that are found in minerals, soil, and rocks. They are present in ambient air, groundwater, plants, and food. The principal commercial use of sulfate is in the chemical industry. Sulfate concentration in seawater is about 2,700 milligrams per liter (mg/L). It ranges from 3 to 30 mg/L in most freshwater supplies, although much higher concentrations (1000 mg/L) are found in some geographic locations.\n",
    "\n",
    "<b> 6. Conductivity: </b> \n",
    "Pure water is not a good conductor of electric current rather’s a good insulator. Increase in ions concentration enhances the electrical conductivity of water. Generally, the amount of dissolved solids in water determines the electrical conductivity. Electrical conductivity (EC) actually measures the ionic process of a solution that enables it to transmit current. According to WHO standards, EC value should not exceeded 400 μS/cm.\n",
    "\n",
    "<b> 7. Organic_carbon: </b> \n",
    "Total Organic Carbon (TOC) in source waters comes from decaying natural organic matter (NOM) as well as synthetic sources. TOC is a measure of the total amount of carbon in organic compounds in pure water. According to US EPA < 2 mg/L as TOC in treated / drinking water, and < 4 mg/Lit in source water which is use for treatment.\n",
    "\n",
    "<b> 8. Trihalomethanes: </b> \n",
    "THMs are chemicals which may be found in water treated with chlorine. The concentration of THMs in drinking water varies according to the level of organic material in the water, the amount of chlorine required to treat the water, and the temperature of the water that is being treated. THM levels up to 80 ppm is considered safe in drinking water.\n",
    "\n",
    "<b> 9. Turbidity: </b> \n",
    "The turbidity of water depends on the quantity of solid matter present in the suspended state. It is a measure of light emitting properties of water and the test is used to indicate the quality of waste discharge with respect to colloidal matter. The mean turbidity value obtained for Wondo Genet Campus (0.98 NTU) is lower than the WHO recommended value of 5.00 NTU.\n",
    "\n",
    "<b> 10. Potability: </b> \n",
    "Indicates if water is safe for human consumption where 1 means Potable and 0 means Not potable.\n",
    "\n",
    "\n"
   ]
  },
  {
   "cell_type": "markdown",
   "id": "f2e57e82-08bc-45b1-acec-04073bf6ee76",
   "metadata": {},
   "source": [
    "##### STEPS COVERED :\n",
    "##### <u> FEATURE ENGINEERING - Treating the Missing Values </u><br>\n",
    "1)Random Sample Imputation<br>\n",
    "2)For Handling Categorical missing values like Cabin<br>\n",
    "\n",
    "3)Frequent Category Imputation<br>\n",
    "4)Label Encoding<br>\n",
    "\n",
    "##### <u>Normalization And Standardisation</u><br>\n",
    "\n",
    "Robust Scaler<br>\n",
    "\n",
    "##### <u> DISTRIBUTION OF THE COLUMNS </u> <br>\n",
    "\n",
    "Guassian Transformation<br>\n",
    "boxcox transformation - For coverting Skewed Cloumns to Normal Distribution<br>\n",
    "\n",
    "##### <u> FEATURE SELECTION  Univariate Selection</u> <br>\n",
    "ExtraTreesClassifier/Kbest Selector<br>\n",
    "\n",
    "##### <u> Importance Of The Features Wrt, Label/Target Variable</u> <br>\n",
    "\n",
    "Correlation - To Check Multicollinearity\n",
    "##### <u>  Treating the multicollinearity with Threshold values</u>  <br>\n",
    "\n",
    "##### Information Gain<br>\n",
    "##### Checking for Outliers<br>\n",
    "##### PIPELINE CREATION<br>\n",
    "\n",
    "##### Hyper Parameter Tuning For Logistic Regression<br>\n",
    "Randomized Search Cross Validation<br>\n",
    "GridSearch CV<br>\n",
    "=============================================<br>\n",
    "##### Automated Hyperparameter Tuning<br>\n",
    "=============================================<br>\n",
    "Bayesian Optimization<br>\n",
    "Genetic Algorithms - TPOT Classifier<br>\n",
    "=============================================<br>\n",
    "\n",
    "##### Optimize hyperparameters of the model using Optuna<br>\n"
   ]
  },
  {
   "cell_type": "code",
   "execution_count": 1,
   "id": "828e8871-fc4a-473b-8f84-4eb5b0c1b87a",
   "metadata": {},
   "outputs": [],
   "source": [
    "from sklearn.datasets import load_iris\n",
    "from sklearn.model_selection import train_test_split\n",
    "from sklearn.preprocessing import StandardScaler\n",
    "from sklearn.decomposition import PCA\n",
    "from sklearn.pipeline import Pipeline\n",
    "from sklearn.linear_model import LogisticRegression\n",
    "from sklearn.tree import DecisionTreeClassifier\n",
    "from sklearn.ensemble import RandomForestClassifier"
   ]
  },
  {
   "cell_type": "code",
   "execution_count": 2,
   "id": "2d77e0c3-aff4-4b4b-a893-eac0ad2d0f6d",
   "metadata": {},
   "outputs": [],
   "source": [
    "# Suppressing Warnings\n",
    "import warnings\n",
    "warnings.filterwarnings('ignore')"
   ]
  },
  {
   "cell_type": "code",
   "execution_count": 3,
   "id": "06307df8-a07e-42f5-9f61-77e90d6cb279",
   "metadata": {},
   "outputs": [],
   "source": [
    "# Importing Pandas and NumPy\n",
    "import pandas as pd, numpy as np"
   ]
  },
  {
   "cell_type": "code",
   "execution_count": 4,
   "id": "fb81e438-142d-43d2-9b0e-063ff4777efc",
   "metadata": {},
   "outputs": [
    {
     "data": {
      "text/html": [
       "<div>\n",
       "<style scoped>\n",
       "    .dataframe tbody tr th:only-of-type {\n",
       "        vertical-align: middle;\n",
       "    }\n",
       "\n",
       "    .dataframe tbody tr th {\n",
       "        vertical-align: top;\n",
       "    }\n",
       "\n",
       "    .dataframe thead th {\n",
       "        text-align: right;\n",
       "    }\n",
       "</style>\n",
       "<table border=\"1\" class=\"dataframe\">\n",
       "  <thead>\n",
       "    <tr style=\"text-align: right;\">\n",
       "      <th></th>\n",
       "      <th>ph</th>\n",
       "      <th>Hardness</th>\n",
       "      <th>Solids</th>\n",
       "      <th>Chloramines</th>\n",
       "      <th>Sulfate</th>\n",
       "      <th>Conductivity</th>\n",
       "      <th>Organic_carbon</th>\n",
       "      <th>Trihalomethanes</th>\n",
       "      <th>Turbidity</th>\n",
       "      <th>Potability</th>\n",
       "    </tr>\n",
       "  </thead>\n",
       "  <tbody>\n",
       "    <tr>\n",
       "      <th>0</th>\n",
       "      <td>NaN</td>\n",
       "      <td>204.890455</td>\n",
       "      <td>20791.318981</td>\n",
       "      <td>7.300212</td>\n",
       "      <td>368.516441</td>\n",
       "      <td>564.308654</td>\n",
       "      <td>10.379783</td>\n",
       "      <td>86.990970</td>\n",
       "      <td>2.963135</td>\n",
       "      <td>0</td>\n",
       "    </tr>\n",
       "    <tr>\n",
       "      <th>1</th>\n",
       "      <td>3.716080</td>\n",
       "      <td>129.422921</td>\n",
       "      <td>18630.057858</td>\n",
       "      <td>6.635246</td>\n",
       "      <td>NaN</td>\n",
       "      <td>592.885359</td>\n",
       "      <td>15.180013</td>\n",
       "      <td>56.329076</td>\n",
       "      <td>4.500656</td>\n",
       "      <td>0</td>\n",
       "    </tr>\n",
       "    <tr>\n",
       "      <th>2</th>\n",
       "      <td>8.099124</td>\n",
       "      <td>224.236259</td>\n",
       "      <td>19909.541732</td>\n",
       "      <td>9.275884</td>\n",
       "      <td>NaN</td>\n",
       "      <td>418.606213</td>\n",
       "      <td>16.868637</td>\n",
       "      <td>66.420093</td>\n",
       "      <td>3.055934</td>\n",
       "      <td>0</td>\n",
       "    </tr>\n",
       "    <tr>\n",
       "      <th>3</th>\n",
       "      <td>8.316766</td>\n",
       "      <td>214.373394</td>\n",
       "      <td>22018.417441</td>\n",
       "      <td>8.059332</td>\n",
       "      <td>356.886136</td>\n",
       "      <td>363.266516</td>\n",
       "      <td>18.436524</td>\n",
       "      <td>100.341674</td>\n",
       "      <td>4.628771</td>\n",
       "      <td>0</td>\n",
       "    </tr>\n",
       "  </tbody>\n",
       "</table>\n",
       "</div>"
      ],
      "text/plain": [
       "         ph    Hardness        Solids  Chloramines     Sulfate  Conductivity  \\\n",
       "0       NaN  204.890455  20791.318981     7.300212  368.516441    564.308654   \n",
       "1  3.716080  129.422921  18630.057858     6.635246         NaN    592.885359   \n",
       "2  8.099124  224.236259  19909.541732     9.275884         NaN    418.606213   \n",
       "3  8.316766  214.373394  22018.417441     8.059332  356.886136    363.266516   \n",
       "\n",
       "   Organic_carbon  Trihalomethanes  Turbidity  Potability  \n",
       "0       10.379783        86.990970   2.963135           0  \n",
       "1       15.180013        56.329076   4.500656           0  \n",
       "2       16.868637        66.420093   3.055934           0  \n",
       "3       18.436524       100.341674   4.628771           0  "
      ]
     },
     "execution_count": 4,
     "metadata": {},
     "output_type": "execute_result"
    }
   ],
   "source": [
    "# Importing all datasets\n",
    "water_portability = pd.read_csv(\"C:/Users/HP/Desktop/Upgrad Case Study/Water Quality/water_potability.csv\")\n",
    "water_portability.head(4)"
   ]
  },
  {
   "cell_type": "code",
   "execution_count": 5,
   "id": "b14a75ad-28ab-404d-b185-5f9a9b6d5811",
   "metadata": {},
   "outputs": [
    {
     "name": "stdout",
     "output_type": "stream",
     "text": [
      "<class 'pandas.core.frame.DataFrame'>\n",
      "RangeIndex: 3276 entries, 0 to 3275\n",
      "Data columns (total 10 columns):\n",
      " #   Column           Non-Null Count  Dtype  \n",
      "---  ------           --------------  -----  \n",
      " 0   ph               2785 non-null   float64\n",
      " 1   Hardness         3276 non-null   float64\n",
      " 2   Solids           3276 non-null   float64\n",
      " 3   Chloramines      3276 non-null   float64\n",
      " 4   Sulfate          2495 non-null   float64\n",
      " 5   Conductivity     3276 non-null   float64\n",
      " 6   Organic_carbon   3276 non-null   float64\n",
      " 7   Trihalomethanes  3114 non-null   float64\n",
      " 8   Turbidity        3276 non-null   float64\n",
      " 9   Potability       3276 non-null   int64  \n",
      "dtypes: float64(9), int64(1)\n",
      "memory usage: 256.1 KB\n"
     ]
    }
   ],
   "source": [
    "water_portability.info()"
   ]
  },
  {
   "cell_type": "code",
   "execution_count": 6,
   "id": "79160589-a28a-41c6-a596-5e30b2b99663",
   "metadata": {},
   "outputs": [
    {
     "data": {
      "text/plain": [
       "(3276, 10)"
      ]
     },
     "execution_count": 6,
     "metadata": {},
     "output_type": "execute_result"
    }
   ],
   "source": [
    "water_portability.shape"
   ]
  },
  {
   "cell_type": "markdown",
   "id": "edae5ce7-1a1f-444a-a0ad-11813fb3ed16",
   "metadata": {},
   "source": [
    "# <u> FEATURE ENGINEERING </u>"
   ]
  },
  {
   "cell_type": "markdown",
   "id": "4f93d34b-e901-458d-ad00-feac7743f175",
   "metadata": {},
   "source": [
    "### Treating the `Missing` Values"
   ]
  },
  {
   "cell_type": "markdown",
   "id": "0ec6d876-9018-48e3-9f17-94e4bdd81438",
   "metadata": {},
   "source": [
    "Data That can be missing can be of two types : <br>\n",
    "    1) Continuous Data <br>\n",
    "    2) Discreate Or Categorical Data <br>\n",
    "    \n",
    "The Types of `missing` can be of mentioned types : <br>\n",
    "1) <b>MCAR</b> - Missing Completely At Random <br>\n",
    "If the probability of being `missing` is same for all the observations.<br>\n",
    "2) <b>MNAR</b> - Missing Not At Random <br>\n",
    "There is some relationship between the missing data <br>\n",
    "3) <b>MAR</b> - Missing At Random <br>\n"
   ]
  },
  {
   "cell_type": "markdown",
   "id": "69e9d85c-36dc-436e-b0be-0fda5b6b6bd9",
   "metadata": {},
   "source": [
    "#### Random Sample Imputation\n",
    "\n",
    "Aim: Random sample imputation consists of taking random observation from the dataset and we use this observation to replace the nan values\n",
    "\n",
    "When should it be used? \n",
    "It assumes that the data are missing completely at `random(MCAR)`"
   ]
  },
  {
   "cell_type": "code",
   "execution_count": 7,
   "id": "82bef74b-2638-4eeb-bb65-b1dc1169172f",
   "metadata": {},
   "outputs": [
    {
     "data": {
      "text/plain": [
       "ph                 491\n",
       "Hardness             0\n",
       "Solids               0\n",
       "Chloramines          0\n",
       "Sulfate            781\n",
       "Conductivity         0\n",
       "Organic_carbon       0\n",
       "Trihalomethanes    162\n",
       "Turbidity            0\n",
       "Potability           0\n",
       "dtype: int64"
      ]
     },
     "execution_count": 7,
     "metadata": {},
     "output_type": "execute_result"
    }
   ],
   "source": [
    "water_portability.isnull().sum()"
   ]
  },
  {
   "cell_type": "code",
   "execution_count": 8,
   "id": "68d4a9e4-51f6-4c0f-ae04-0ce519f11cea",
   "metadata": {},
   "outputs": [],
   "source": [
    "def impute_nan(df,variable,median):\n",
    "    df[variable+\"_median\"]=df[variable].fillna(median)\n",
    "    df[variable+\"_random\"]=df[variable]\n",
    "    ##It will have the random sample to fill the na\n",
    "    random_sample=df[variable].dropna().sample(df[variable].isnull().sum(),random_state=0)\n",
    "    ##pandas need to have same index in order to merge the dataset\n",
    "    random_sample.index=df[df[variable].isnull()].index\n",
    "    df.loc[df[variable].isnull(),variable+'_random']=random_sample"
   ]
  },
  {
   "cell_type": "code",
   "execution_count": 9,
   "id": "d2254301-9f14-4142-91cd-70c65b0753b9",
   "metadata": {},
   "outputs": [],
   "source": [
    "median=water_portability.ph.median()"
   ]
  },
  {
   "cell_type": "code",
   "execution_count": 10,
   "id": "f1a4a46f-a9a1-4bc5-b2b4-92db7cd217d0",
   "metadata": {},
   "outputs": [
    {
     "data": {
      "text/plain": [
       "7.036752103833548"
      ]
     },
     "execution_count": 10,
     "metadata": {},
     "output_type": "execute_result"
    }
   ],
   "source": [
    "median"
   ]
  },
  {
   "cell_type": "code",
   "execution_count": 11,
   "id": "dd7c286d-3e3f-4e5c-8dde-0974dfceb871",
   "metadata": {},
   "outputs": [],
   "source": [
    "impute_nan(water_portability,\"ph\",median)"
   ]
  },
  {
   "cell_type": "code",
   "execution_count": 12,
   "id": "0334b1fd-7efd-44d2-b885-dc868ebc3c8e",
   "metadata": {},
   "outputs": [],
   "source": [
    "import matplotlib.pyplot as plt\n",
    "%matplotlib inline"
   ]
  },
  {
   "cell_type": "code",
   "execution_count": 13,
   "id": "d747d1f1-9cfc-4f54-b6d9-afe1a6da9383",
   "metadata": {},
   "outputs": [
    {
     "data": {
      "text/plain": [
       "<matplotlib.legend.Legend at 0x2397a490f10>"
      ]
     },
     "execution_count": 13,
     "metadata": {},
     "output_type": "execute_result"
    },
    {
     "data": {
      "image/png": "[encoded data removed]",
      "text/plain": [
       "<Figure size 432x288 with 1 Axes>"
      ]
     },
     "metadata": {
      "needs_background": "light"
     },
     "output_type": "display_data"
    }
   ],
   "source": [
    "fig = plt.figure()\n",
    "ax = fig.add_subplot(111)\n",
    "\n",
    "water_portability.ph.plot(kind='kde', ax=ax)\n",
    "water_portability.ph_median.plot(kind='kde', ax=ax, color='red')\n",
    "water_portability.ph_random.plot(kind='kde', ax=ax, color='green')\n",
    "lines, labels = ax.get_legend_handles_labels()\n",
    "ax.legend(lines, labels, loc='best')"
   ]
  },
  {
   "cell_type": "markdown",
   "id": "9e4cffc9-2305-4a6c-a3d8-257abed474e2",
   "metadata": {},
   "source": [
    "From the Above `Observation`,"
   ]
  },
  {
   "cell_type": "code",
   "execution_count": 14,
   "id": "832205f1-a2d1-42ba-9d0c-223cdac7f487",
   "metadata": {},
   "outputs": [],
   "source": [
    "water_portability = water_portability.drop(columns=[\"ph\",\"ph_median\"])"
   ]
  },
  {
   "cell_type": "code",
   "execution_count": 15,
   "id": "2af7c1d7-9a0c-4db4-9709-0eb166b4f6ee",
   "metadata": {},
   "outputs": [],
   "source": [
    "water_portability = water_portability.rename(columns={\"ph_random\": \"ph\"})"
   ]
  },
  {
   "cell_type": "code",
   "execution_count": 16,
   "id": "78a2ba00-9faf-4bc4-9702-75a338332c35",
   "metadata": {},
   "outputs": [],
   "source": [
    "median=water_portability.Sulfate.median()"
   ]
  },
  {
   "cell_type": "code",
   "execution_count": 17,
   "id": "2543ec8f-9dc8-4d33-a7f6-e721cfb35dc5",
   "metadata": {},
   "outputs": [
    {
     "data": {
      "text/plain": [
       "333.073545745888"
      ]
     },
     "execution_count": 17,
     "metadata": {},
     "output_type": "execute_result"
    }
   ],
   "source": [
    "median"
   ]
  },
  {
   "cell_type": "code",
   "execution_count": 18,
   "id": "47f14980-cdfd-42ed-90ee-a93afae0a234",
   "metadata": {},
   "outputs": [],
   "source": [
    "impute_nan(water_portability,\"Sulfate\",median)"
   ]
  },
  {
   "cell_type": "code",
   "execution_count": 19,
   "id": "cd318f3b-7eb5-424d-b1c3-0dbd51133392",
   "metadata": {},
   "outputs": [
    {
     "data": {
      "text/plain": [
       "<matplotlib.legend.Legend at 0x2397a57ea90>"
      ]
     },
     "execution_count": 19,
     "metadata": {},
     "output_type": "execute_result"
    },
    {
     "data": {
      "image/png": "[encoded data removed]",
      "text/plain": [
       "<Figure size 432x288 with 1 Axes>"
      ]
     },
     "metadata": {
      "needs_background": "light"
     },
     "output_type": "display_data"
    }
   ],
   "source": [
    "fig = plt.figure()\n",
    "ax = fig.add_subplot(111)\n",
    "\n",
    "water_portability.Sulfate.plot(kind='kde', ax=ax)\n",
    "water_portability.Sulfate_median.plot(kind='kde', ax=ax, color='red')\n",
    "water_portability.Sulfate_random.plot(kind='kde', ax=ax, color='green')\n",
    "lines, labels = ax.get_legend_handles_labels()\n",
    "ax.legend(lines, labels, loc='best')"
   ]
  },
  {
   "cell_type": "markdown",
   "id": "ec446805-e6a1-494a-bdcc-55c7f8db046a",
   "metadata": {},
   "source": [
    "From the Above `Observation`, for \"Sulfate\""
   ]
  },
  {
   "cell_type": "code",
   "execution_count": 20,
   "id": "24c26edd-430c-422e-b614-6fe53d3a159c",
   "metadata": {},
   "outputs": [],
   "source": [
    "water_portability = water_portability.drop(columns=[\"Sulfate\",\"Sulfate_median\"])"
   ]
  },
  {
   "cell_type": "code",
   "execution_count": 21,
   "id": "89c6eab6-d957-477e-9da3-71eb91841888",
   "metadata": {},
   "outputs": [],
   "source": [
    "water_portability = water_portability.rename(columns={\"Sulfate_random\": \"Sulfate\"})"
   ]
  },
  {
   "cell_type": "code",
   "execution_count": 22,
   "id": "058c945a-24f6-43e9-8d16-ecd073ed1dd5",
   "metadata": {},
   "outputs": [],
   "source": [
    "median=water_portability.Trihalomethanes.median()"
   ]
  },
  {
   "cell_type": "code",
   "execution_count": 23,
   "id": "dbb95ac7-78dd-4d64-9375-15f93d6e9f9a",
   "metadata": {},
   "outputs": [
    {
     "data": {
      "text/plain": [
       "66.62248509808484"
      ]
     },
     "execution_count": 23,
     "metadata": {},
     "output_type": "execute_result"
    }
   ],
   "source": [
    "median"
   ]
  },
  {
   "cell_type": "code",
   "execution_count": 24,
   "id": "6f87e81f-81d7-4407-8912-3571fce9727d",
   "metadata": {},
   "outputs": [],
   "source": [
    "impute_nan(water_portability,\"Trihalomethanes\",median)"
   ]
  },
  {
   "cell_type": "code",
   "execution_count": 25,
   "id": "5286bcdd-eb5e-41c8-a259-97608c238d20",
   "metadata": {},
   "outputs": [
    {
     "data": {
      "text/plain": [
       "<matplotlib.legend.Legend at 0x2397a608ac0>"
      ]
     },
     "execution_count": 25,
     "metadata": {},
     "output_type": "execute_result"
    },
    {
     "data": {
      "image/png": "[encoded data removed]",
      "text/plain": [
       "<Figure size 432x288 with 1 Axes>"
      ]
     },
     "metadata": {
      "needs_background": "light"
     },
     "output_type": "display_data"
    }
   ],
   "source": [
    "fig = plt.figure()\n",
    "ax = fig.add_subplot(111)\n",
    "\n",
    "water_portability.Trihalomethanes.plot(kind='kde', ax=ax)\n",
    "water_portability.Trihalomethanes_median.plot(kind='kde', ax=ax, color='red')\n",
    "water_portability.Trihalomethanes_random.plot(kind='kde', ax=ax, color='green')\n",
    "lines, labels = ax.get_legend_handles_labels()\n",
    "ax.legend(lines, labels, loc='best')"
   ]
  },
  {
   "cell_type": "markdown",
   "id": "dccadd11-24c1-407a-82ad-fa3815cf4d67",
   "metadata": {},
   "source": [
    "From the Above `Observation`, for \"Trihalomethanes\":"
   ]
  },
  {
   "cell_type": "code",
   "execution_count": 26,
   "id": "75290b97-ffb1-48c9-81a5-0da3713ac5d5",
   "metadata": {},
   "outputs": [],
   "source": [
    "water_portability = water_portability.drop(columns=[\"Trihalomethanes\",\"Trihalomethanes_median\"])"
   ]
  },
  {
   "cell_type": "code",
   "execution_count": 27,
   "id": "c42f3388-2a8d-41fc-9d17-4beb17d58dee",
   "metadata": {},
   "outputs": [],
   "source": [
    "water_portability = water_portability.rename(columns={\"Trihalomethanes_random\": \"Trihalomethanes\"})"
   ]
  },
  {
   "cell_type": "code",
   "execution_count": 28,
   "id": "33e2634d-930a-4940-b058-4e1d976d4706",
   "metadata": {},
   "outputs": [
    {
     "data": {
      "text/plain": [
       "Hardness           0\n",
       "Solids             0\n",
       "Chloramines        0\n",
       "Conductivity       0\n",
       "Organic_carbon     0\n",
       "Turbidity          0\n",
       "Potability         0\n",
       "ph                 0\n",
       "Sulfate            0\n",
       "Trihalomethanes    0\n",
       "dtype: int64"
      ]
     },
     "execution_count": 28,
     "metadata": {},
     "output_type": "execute_result"
    }
   ],
   "source": [
    "water_portability.isnull().sum()"
   ]
  },
  {
   "cell_type": "code",
   "execution_count": 29,
   "id": "1460bff0-c738-486b-b8f5-02636fad8b56",
   "metadata": {},
   "outputs": [
    {
     "data": {
      "text/html": [
       "<div>\n",
       "<style scoped>\n",
       "    .dataframe tbody tr th:only-of-type {\n",
       "        vertical-align: middle;\n",
       "    }\n",
       "\n",
       "    .dataframe tbody tr th {\n",
       "        vertical-align: top;\n",
       "    }\n",
       "\n",
       "    .dataframe thead th {\n",
       "        text-align: right;\n",
       "    }\n",
       "</style>\n",
       "<table border=\"1\" class=\"dataframe\">\n",
       "  <thead>\n",
       "    <tr style=\"text-align: right;\">\n",
       "      <th></th>\n",
       "      <th>Hardness</th>\n",
       "      <th>Solids</th>\n",
       "      <th>Chloramines</th>\n",
       "      <th>Conductivity</th>\n",
       "      <th>Organic_carbon</th>\n",
       "      <th>Turbidity</th>\n",
       "      <th>Potability</th>\n",
       "      <th>ph</th>\n",
       "      <th>Sulfate</th>\n",
       "      <th>Trihalomethanes</th>\n",
       "    </tr>\n",
       "  </thead>\n",
       "  <tbody>\n",
       "    <tr>\n",
       "      <th>0</th>\n",
       "      <td>204.890455</td>\n",
       "      <td>20791.318981</td>\n",
       "      <td>7.300212</td>\n",
       "      <td>564.308654</td>\n",
       "      <td>10.379783</td>\n",
       "      <td>2.963135</td>\n",
       "      <td>0</td>\n",
       "      <td>9.074923</td>\n",
       "      <td>368.516441</td>\n",
       "      <td>86.990970</td>\n",
       "    </tr>\n",
       "    <tr>\n",
       "      <th>1</th>\n",
       "      <td>129.422921</td>\n",
       "      <td>18630.057858</td>\n",
       "      <td>6.635246</td>\n",
       "      <td>592.885359</td>\n",
       "      <td>15.180013</td>\n",
       "      <td>4.500656</td>\n",
       "      <td>0</td>\n",
       "      <td>3.716080</td>\n",
       "      <td>298.082462</td>\n",
       "      <td>56.329076</td>\n",
       "    </tr>\n",
       "    <tr>\n",
       "      <th>2</th>\n",
       "      <td>224.236259</td>\n",
       "      <td>19909.541732</td>\n",
       "      <td>9.275884</td>\n",
       "      <td>418.606213</td>\n",
       "      <td>16.868637</td>\n",
       "      <td>3.055934</td>\n",
       "      <td>0</td>\n",
       "      <td>8.099124</td>\n",
       "      <td>367.224297</td>\n",
       "      <td>66.420093</td>\n",
       "    </tr>\n",
       "  </tbody>\n",
       "</table>\n",
       "</div>"
      ],
      "text/plain": [
       "     Hardness        Solids  Chloramines  Conductivity  Organic_carbon  \\\n",
       "0  204.890455  20791.318981     7.300212    564.308654       10.379783   \n",
       "1  129.422921  18630.057858     6.635246    592.885359       15.180013   \n",
       "2  224.236259  19909.541732     9.275884    418.606213       16.868637   \n",
       "\n",
       "   Turbidity  Potability        ph     Sulfate  Trihalomethanes  \n",
       "0   2.963135           0  9.074923  368.516441        86.990970  \n",
       "1   4.500656           0  3.716080  298.082462        56.329076  \n",
       "2   3.055934           0  8.099124  367.224297        66.420093  "
      ]
     },
     "execution_count": 29,
     "metadata": {},
     "output_type": "execute_result"
    }
   ],
   "source": [
    "water_portability.head(3)"
   ]
  },
  {
   "cell_type": "code",
   "execution_count": 30,
   "id": "205b51b9-20fe-43f1-9a9a-e06ad8ff13f4",
   "metadata": {},
   "outputs": [
    {
     "data": {
      "text/plain": [
       "0    1998\n",
       "1    1278\n",
       "Name: Potability, dtype: int64"
      ]
     },
     "execution_count": 30,
     "metadata": {},
     "output_type": "execute_result"
    }
   ],
   "source": [
    "water_portability.Potability.value_counts()"
   ]
  },
  {
   "cell_type": "markdown",
   "id": "af507045-3ba1-478d-9c4d-bd9c64128c40",
   "metadata": {},
   "source": [
    "### Label Encoding"
   ]
  },
  {
   "cell_type": "markdown",
   "id": "0c736367-ca44-40c5-a4f8-670223f37cc6",
   "metadata": {},
   "source": [
    " - Since, All the values are `numerical` in nature, So actually `No Label Encoding` is Required."
   ]
  },
  {
   "cell_type": "markdown",
   "id": "5dab6822-e14d-41d0-9e44-e165ee3994ed",
   "metadata": {},
   "source": [
    "## Normalization And Standardisation"
   ]
  },
  {
   "cell_type": "markdown",
   "id": "83d6c7dc-de68-4397-9f3f-fdc5bc6c5d72",
   "metadata": {},
   "source": [
    "##### Robust Scaler\n",
    "It is used to scale the feature to median and quantiles\n",
    "Scaling using median and quantiles consists of substracting the median to all the observations, and then dividing by the interquantile difference. The interquantile difference is the difference between the 75th and 25th quantile:\n",
    "\n",
    "IQR = 75th quantile - 25th quantile\n",
    "\n",
    "X_scaled = (X - X.median) / IQR"
   ]
  },
  {
   "cell_type": "markdown",
   "id": "874a22a7-a75a-4774-963b-dd63ae3d05af",
   "metadata": {},
   "source": [
    "0,1,2,3,4,5,6,7,8,9,10 <br>\n",
    "\n",
    "<b>9-90 percentile </b>---90% of all values in this group is less than 9 <br>\n",
    "<b>1-10 precentile </b>---10% of all values in this group is less than 1 <br>\n",
    "4-40% <br>"
   ]
  },
  {
   "cell_type": "code",
   "execution_count": 31,
   "id": "9f7957b1-272a-4d93-a69e-657050601601",
   "metadata": {},
   "outputs": [
    {
     "data": {
      "text/html": [
       "<div>\n",
       "<style scoped>\n",
       "    .dataframe tbody tr th:only-of-type {\n",
       "        vertical-align: middle;\n",
       "    }\n",
       "\n",
       "    .dataframe tbody tr th {\n",
       "        vertical-align: top;\n",
       "    }\n",
       "\n",
       "    .dataframe thead th {\n",
       "        text-align: right;\n",
       "    }\n",
       "</style>\n",
       "<table border=\"1\" class=\"dataframe\">\n",
       "  <thead>\n",
       "    <tr style=\"text-align: right;\">\n",
       "      <th></th>\n",
       "      <th>Hardness</th>\n",
       "      <th>Solids</th>\n",
       "      <th>Chloramines</th>\n",
       "      <th>Conductivity</th>\n",
       "      <th>Organic_carbon</th>\n",
       "      <th>Turbidity</th>\n",
       "      <th>Potability</th>\n",
       "      <th>ph</th>\n",
       "      <th>Sulfate</th>\n",
       "      <th>Trihalomethanes</th>\n",
       "    </tr>\n",
       "  </thead>\n",
       "  <tbody>\n",
       "    <tr>\n",
       "      <th>0</th>\n",
       "      <td>0.198981</td>\n",
       "      <td>-0.011702</td>\n",
       "      <td>0.085492</td>\n",
       "      <td>1.227178</td>\n",
       "      <td>-0.854560</td>\n",
       "      <td>-0.935210</td>\n",
       "      <td>0.0</td>\n",
       "      <td>1.032167</td>\n",
       "      <td>0.682864</td>\n",
       "      <td>0.945611</td>\n",
       "    </tr>\n",
       "    <tr>\n",
       "      <th>1</th>\n",
       "      <td>-1.696382</td>\n",
       "      <td>-0.196962</td>\n",
       "      <td>-0.249088</td>\n",
       "      <td>1.473406</td>\n",
       "      <td>0.214093</td>\n",
       "      <td>0.514449</td>\n",
       "      <td>0.0</td>\n",
       "      <td>-1.672015</td>\n",
       "      <td>-0.666773</td>\n",
       "      <td>-0.479033</td>\n",
       "    </tr>\n",
       "    <tr>\n",
       "      <th>2</th>\n",
       "      <td>0.684850</td>\n",
       "      <td>-0.087287</td>\n",
       "      <td>1.079558</td>\n",
       "      <td>-0.028251</td>\n",
       "      <td>0.590024</td>\n",
       "      <td>-0.847715</td>\n",
       "      <td>0.0</td>\n",
       "      <td>0.539759</td>\n",
       "      <td>0.658104</td>\n",
       "      <td>-0.010174</td>\n",
       "    </tr>\n",
       "    <tr>\n",
       "      <th>3</th>\n",
       "      <td>0.437145</td>\n",
       "      <td>0.093483</td>\n",
       "      <td>0.467446</td>\n",
       "      <td>-0.505079</td>\n",
       "      <td>0.939076</td>\n",
       "      <td>0.635242</td>\n",
       "      <td>0.0</td>\n",
       "      <td>0.649586</td>\n",
       "      <td>0.460007</td>\n",
       "      <td>1.565925</td>\n",
       "    </tr>\n",
       "    <tr>\n",
       "      <th>4</th>\n",
       "      <td>-0.398477</td>\n",
       "      <td>-0.252771</td>\n",
       "      <td>-0.293690</td>\n",
       "      <td>-0.202262</td>\n",
       "      <td>-0.592197</td>\n",
       "      <td>0.113188</td>\n",
       "      <td>0.0</td>\n",
       "      <td>1.040897</td>\n",
       "      <td>-0.435811</td>\n",
       "      <td>-1.609529</td>\n",
       "    </tr>\n",
       "  </tbody>\n",
       "</table>\n",
       "</div>"
      ],
      "text/plain": [
       "   Hardness    Solids  Chloramines  Conductivity  Organic_carbon  Turbidity  \\\n",
       "0  0.198981 -0.011702     0.085492      1.227178       -0.854560  -0.935210   \n",
       "1 -1.696382 -0.196962    -0.249088      1.473406        0.214093   0.514449   \n",
       "2  0.684850 -0.087287     1.079558     -0.028251        0.590024  -0.847715   \n",
       "3  0.437145  0.093483     0.467446     -0.505079        0.939076   0.635242   \n",
       "4 -0.398477 -0.252771    -0.293690     -0.202262       -0.592197   0.113188   \n",
       "\n",
       "   Potability        ph   Sulfate  Trihalomethanes  \n",
       "0         0.0  1.032167  0.682864         0.945611  \n",
       "1         0.0 -1.672015 -0.666773        -0.479033  \n",
       "2         0.0  0.539759  0.658104        -0.010174  \n",
       "3         0.0  0.649586  0.460007         1.565925  \n",
       "4         0.0  1.040897 -0.435811        -1.609529  "
      ]
     },
     "execution_count": 31,
     "metadata": {},
     "output_type": "execute_result"
    }
   ],
   "source": [
    "from sklearn.preprocessing import RobustScaler\n",
    "scaler=RobustScaler()\n",
    "water_portability_robust_scaler=pd.DataFrame(scaler.fit_transform(water_portability),columns=water_portability.columns)\n",
    "water_portability_robust_scaler.head()"
   ]
  },
  {
   "cell_type": "markdown",
   "id": "a043dedf-f974-4179-9fd6-20c63f8e44d6",
   "metadata": {},
   "source": [
    "### DISTRIBUTION OF THE `COLUMNS` "
   ]
  },
  {
   "cell_type": "code",
   "execution_count": 32,
   "id": "07fbd6d1-577c-4e0e-bc62-10950f2e10db",
   "metadata": {},
   "outputs": [
    {
     "data": {
      "image/png": "[encoded data removed]",
      "text/plain": [
       "<Figure size 1296x360 with 6 Axes>"
      ]
     },
     "metadata": {
      "needs_background": "light"
     },
     "output_type": "display_data"
    }
   ],
   "source": [
    "plt.figure(figsize=(18,5))\n",
    "plt.subplot(1,6,1)\n",
    "plt.hist(water_portability_robust_scaler['Hardness'],bins=20)\n",
    "plt.subplot(1,6,2)\n",
    "plt.hist(water_portability_robust_scaler['Solids'],bins=20)\n",
    "plt.subplot(1,6,3)\n",
    "plt.hist(water_portability_robust_scaler['Chloramines'],bins=20)\n",
    "plt.subplot(1,6,4)\n",
    "plt.hist(water_portability_robust_scaler['Conductivity'],bins=20)\n",
    "plt.subplot(1,6,5)\n",
    "plt.hist(water_portability_robust_scaler['Organic_carbon'],bins=20)\n",
    "plt.subplot(1,6,6)\n",
    "plt.hist(water_portability_robust_scaler['Turbidity'],bins=20)\n",
    "plt.show()"
   ]
  },
  {
   "cell_type": "code",
   "execution_count": 33,
   "id": "925a09d6-8d91-4b7a-9f1b-bd89558b2e1b",
   "metadata": {},
   "outputs": [
    {
     "data": {
      "text/plain": [
       "(array([  1.,   2.,  10.,  13.,  29.,  80., 142., 225., 338., 444., 507.,\n",
       "        490., 405., 288., 163.,  70.,  40.,  18.,   7.,   4.]),\n",
       " array([-3.06196299, -2.77560672, -2.48925045, -2.20289418, -1.91653791,\n",
       "        -1.63018164, -1.34382537, -1.0574691 , -0.77111283, -0.48475656,\n",
       "        -0.19840029,  0.08795598,  0.37431225,  0.66066852,  0.94702479,\n",
       "         1.23338106,  1.51973733,  1.8060936 ,  2.09244987,  2.37880614,\n",
       "         2.66516241]),\n",
       " <BarContainer object of 20 artists>)"
      ]
     },
     "execution_count": 33,
     "metadata": {},
     "output_type": "execute_result"
    },
    {
     "data": {
      "image/png": "[encoded data removed]",
      "text/plain": [
       "<Figure size 1296x288 with 3 Axes>"
      ]
     },
     "metadata": {
      "needs_background": "light"
     },
     "output_type": "display_data"
    }
   ],
   "source": [
    "plt.figure(figsize=(18,4))\n",
    "plt.subplot(1,3,1)\n",
    "plt.hist(water_portability_robust_scaler['ph'],bins=20)\n",
    "plt.subplot(1,3,2)\n",
    "plt.hist(water_portability_robust_scaler['Sulfate'],bins=20)\n",
    "plt.subplot(1,3,3)\n",
    "plt.hist(water_portability_robust_scaler['Trihalomethanes'],bins=20)"
   ]
  },
  {
   "cell_type": "markdown",
   "id": "3301e2a7-dc12-42c7-94ec-12e3500e368e",
   "metadata": {},
   "source": [
    "#### Guassian Transformation\n",
    "\n",
    "Some machine learning algorithms like linear and logistic assume that the features are normally distributed\n",
    "-Accuracy\n",
    "-Performance\n",
    "- logarithmic transformation\n",
    "- reciprocal transformation\n",
    "- square root transformation\n",
    "- exponential transformation (more general, you can use any exponent)\n",
    "- boxcox transformation\n"
   ]
  },
  {
   "cell_type": "markdown",
   "id": "3fbeb83f-5ad6-4a16-aaf9-b1428a44ceaf",
   "metadata": {},
   "source": [
    "- Since , The Data are `Normally Distributed` , thus , Guassian Transformation is actually Not Required."
   ]
  },
  {
   "cell_type": "code",
   "execution_count": 34,
   "id": "a4f70de4-38d1-469e-bea9-314c330ab563",
   "metadata": {},
   "outputs": [],
   "source": [
    "# choosing all the numerical variables as independent variables (classifier can only take numerical input)\n",
    "# dropping two variable funded_amnt as we have created new variable transformation based on it \n",
    "X = water_portability_robust_scaler.drop(columns = \"Potability\")\n",
    "Y = water_portability_robust_scaler[\"Potability\"]\n",
    "\n",
    "#splitting the dataset in train and test datasets using a split ratio of 70:30\n",
    "\n",
    "from sklearn.model_selection import train_test_split\n",
    "X_train, X_test, y_train, y_test = train_test_split(X, Y, test_size=0.3, random_state=10)"
   ]
  },
  {
   "cell_type": "code",
   "execution_count": 35,
   "id": "5e3f27ee-17b3-492d-a58d-faafbfeb667d",
   "metadata": {},
   "outputs": [
    {
     "data": {
      "text/plain": [
       "(2293, 9)"
      ]
     },
     "execution_count": 35,
     "metadata": {},
     "output_type": "execute_result"
    }
   ],
   "source": [
    "X_train.shape"
   ]
  },
  {
   "cell_type": "code",
   "execution_count": 36,
   "id": "77a9ada9-7015-4975-927f-d5f7b07ba634",
   "metadata": {},
   "outputs": [
    {
     "data": {
      "text/plain": [
       "(983, 9)"
      ]
     },
     "execution_count": 36,
     "metadata": {},
     "output_type": "execute_result"
    }
   ],
   "source": [
    "X_test.shape"
   ]
  },
  {
   "cell_type": "code",
   "execution_count": 37,
   "id": "78547eb1-dcbb-40ae-b47e-8063876beae8",
   "metadata": {},
   "outputs": [
    {
     "data": {
      "text/plain": [
       "(2293,)"
      ]
     },
     "execution_count": 37,
     "metadata": {},
     "output_type": "execute_result"
    }
   ],
   "source": [
    "y_train.shape"
   ]
  },
  {
   "cell_type": "code",
   "execution_count": 38,
   "id": "947e5028-0b03-4069-be84-99641ce73f5a",
   "metadata": {},
   "outputs": [
    {
     "data": {
      "text/plain": [
       "(983,)"
      ]
     },
     "execution_count": 38,
     "metadata": {},
     "output_type": "execute_result"
    }
   ],
   "source": [
    "y_test.shape"
   ]
  },
  {
   "cell_type": "markdown",
   "id": "682f0fbe-79f8-477b-8eb5-ddacc222800a",
   "metadata": {},
   "source": [
    "### Data Analysis - Univariate And Bivariate Analysis"
   ]
  },
  {
   "cell_type": "markdown",
   "id": "226a1d87-4ca0-48cf-b8d7-d363194aabdb",
   "metadata": {},
   "source": [
    "### <u> <b> Univariate Analysis </b> </u>"
   ]
  },
  {
   "cell_type": "code",
   "execution_count": 39,
   "id": "c6823dea-de5c-4a76-984d-8a8872aa099f",
   "metadata": {},
   "outputs": [],
   "source": [
    "import seaborn as sns\n",
    "import matplotlib.pyplot as plt\n",
    "plt.style.use(\"dark_background\")"
   ]
  },
  {
   "cell_type": "code",
   "execution_count": 40,
   "id": "0f0ed1dd-98ee-4ae6-bb11-4eea6d88b297",
   "metadata": {},
   "outputs": [
    {
     "data": {
      "image/png": "[encoded data removed]",
      "text/plain": [
       "<Figure size 720x288 with 1 Axes>"
      ]
     },
     "metadata": {},
     "output_type": "display_data"
    }
   ],
   "source": [
    "\n",
    "import numpy as np\n",
    "import pandas as pd\n",
    "import matplotlib.pyplot as plt\n",
    "import warnings\n",
    "warnings.filterwarnings(\"ignore\")\n",
    "\n",
    "import seaborn as sns\n",
    "plt.figure(figsize = [10,4])\n",
    "sns.distplot(water_portability_robust_scaler.ph,  bins = 40, color = \"orange\")\n",
    "plt.title(\"Distribution of PH\", fontsize = 20, fontweight = 10, verticalalignment = 'baseline')\n",
    "\n",
    "plt.show()"
   ]
  },
  {
   "cell_type": "code",
   "execution_count": 41,
   "id": "65d02390-dfa2-49c0-a2b4-2cbe58a6414d",
   "metadata": {},
   "outputs": [
    {
     "data": {
      "text/plain": [
       "<AxesSubplot:xlabel='ph', ylabel='Chloramines'>"
      ]
     },
     "execution_count": 41,
     "metadata": {},
     "output_type": "execute_result"
    },
    {
     "data": {
      "image/png": "[encoded data removed]",
      "text/plain": [
       "<Figure size 720x288 with 1 Axes>"
      ]
     },
     "metadata": {},
     "output_type": "display_data"
    }
   ],
   "source": [
    "plt.figure(figsize = [10,4])\n",
    "sns.lineplot(water_portability_robust_scaler.ph,water_portability_robust_scaler.Chloramines)"
   ]
  },
  {
   "cell_type": "markdown",
   "id": "96d53ba2-fe35-48b6-b0b6-da3bd01a8f36",
   "metadata": {},
   "source": [
    "# FEATURE SELECTION "
   ]
  },
  {
   "cell_type": "markdown",
   "id": "87e1e6cb-e029-4858-9340-e0169e3b4547",
   "metadata": {},
   "source": [
    "#### Univariate Selection"
   ]
  },
  {
   "cell_type": "code",
   "execution_count": 42,
   "id": "cb8cf932-724d-46a0-a175-d02fbdc8fd81",
   "metadata": {},
   "outputs": [],
   "source": [
    "from sklearn.feature_selection import SelectKBest\n",
    "from sklearn.feature_selection import chi2"
   ]
  },
  {
   "cell_type": "code",
   "execution_count": 43,
   "id": "ab099920-145f-4ab5-b01d-fc137b7c01a4",
   "metadata": {},
   "outputs": [
    {
     "data": {
      "text/plain": [
       "ExtraTreesClassifier()"
      ]
     },
     "execution_count": 43,
     "metadata": {},
     "output_type": "execute_result"
    }
   ],
   "source": [
    "from sklearn.ensemble import ExtraTreesClassifier\n",
    "import matplotlib.pyplot as plt\n",
    "model=ExtraTreesClassifier()\n",
    "model.fit(X_train,y_train)"
   ]
  },
  {
   "cell_type": "code",
   "execution_count": 44,
   "id": "998a3569-d774-47af-8a4e-70f3e50fa37f",
   "metadata": {},
   "outputs": [
    {
     "name": "stdout",
     "output_type": "stream",
     "text": [
      "[0.11594886 0.10988133 0.11373841 0.10543524 0.10578978 0.1009698\n",
      " 0.12165579 0.12351395 0.10306684]\n"
     ]
    }
   ],
   "source": [
    "print(model.feature_importances_)\n"
   ]
  },
  {
   "cell_type": "code",
   "execution_count": 45,
   "id": "10d6b8b2-6dba-4194-a839-b78810a7be1c",
   "metadata": {},
   "outputs": [
    {
     "data": {
      "image/png": "[encoded data removed]",
      "text/plain": [
       "<Figure size 720x288 with 1 Axes>"
      ]
     },
     "metadata": {},
     "output_type": "display_data"
    }
   ],
   "source": [
    "plt.figure(figsize = [10,4])\n",
    "ranked_features=pd.Series(model.feature_importances_,index=X_train.columns)\n",
    "ranked_features.nlargest(10).plot(kind='barh')\n",
    "plt.show()"
   ]
  },
  {
   "cell_type": "markdown",
   "id": "0dd9bdbb-fe7a-4b0a-809e-0ae0d4bd026b",
   "metadata": {},
   "source": [
    "### Importance Of The Features Wrt, `Label/Target Variable`"
   ]
  },
  {
   "cell_type": "code",
   "execution_count": 46,
   "id": "b4610443-6ecb-411a-8546-e6da738e30a8",
   "metadata": {},
   "outputs": [
    {
     "data": {
      "text/plain": [
       "Sulfate            0.123514\n",
       "ph                 0.121656\n",
       "Hardness           0.115949\n",
       "Chloramines        0.113738\n",
       "Solids             0.109881\n",
       "Organic_carbon     0.105790\n",
       "Conductivity       0.105435\n",
       "Trihalomethanes    0.103067\n",
       "Turbidity          0.100970\n",
       "dtype: float64"
      ]
     },
     "execution_count": 46,
     "metadata": {},
     "output_type": "execute_result"
    }
   ],
   "source": [
    "ranked_features.nlargest(10, keep='all')"
   ]
  },
  {
   "cell_type": "markdown",
   "id": "684403df-65e2-4818-b0eb-6c8a7bfcaa18",
   "metadata": {},
   "source": [
    " - Here , From the above observation , all the features are important wrt, the `target` , So we can not drop `any`"
   ]
  },
  {
   "cell_type": "markdown",
   "id": "ba97664a-614c-45d6-972f-c6e1cff4d148",
   "metadata": {},
   "source": [
    "### Correlation - To Check `Multicollinearity`"
   ]
  },
  {
   "cell_type": "code",
   "execution_count": 47,
   "id": "e7bf704d-9ac7-4283-af01-d1012ba2e2fb",
   "metadata": {},
   "outputs": [
    {
     "data": {
      "text/html": [
       "<div>\n",
       "<style scoped>\n",
       "    .dataframe tbody tr th:only-of-type {\n",
       "        vertical-align: middle;\n",
       "    }\n",
       "\n",
       "    .dataframe tbody tr th {\n",
       "        vertical-align: top;\n",
       "    }\n",
       "\n",
       "    .dataframe thead th {\n",
       "        text-align: right;\n",
       "    }\n",
       "</style>\n",
       "<table border=\"1\" class=\"dataframe\">\n",
       "  <thead>\n",
       "    <tr style=\"text-align: right;\">\n",
       "      <th></th>\n",
       "      <th>Hardness</th>\n",
       "      <th>Solids</th>\n",
       "      <th>Chloramines</th>\n",
       "      <th>Conductivity</th>\n",
       "      <th>Organic_carbon</th>\n",
       "      <th>Turbidity</th>\n",
       "      <th>ph</th>\n",
       "      <th>Sulfate</th>\n",
       "      <th>Trihalomethanes</th>\n",
       "    </tr>\n",
       "  </thead>\n",
       "  <tbody>\n",
       "    <tr>\n",
       "      <th>Hardness</th>\n",
       "      <td>1.000000</td>\n",
       "      <td>-0.034806</td>\n",
       "      <td>-0.025428</td>\n",
       "      <td>-0.046913</td>\n",
       "      <td>0.019890</td>\n",
       "      <td>-0.007436</td>\n",
       "      <td>0.089940</td>\n",
       "      <td>-0.106678</td>\n",
       "      <td>0.000758</td>\n",
       "    </tr>\n",
       "    <tr>\n",
       "      <th>Solids</th>\n",
       "      <td>-0.034806</td>\n",
       "      <td>1.000000</td>\n",
       "      <td>-0.075316</td>\n",
       "      <td>0.016267</td>\n",
       "      <td>0.032627</td>\n",
       "      <td>0.013813</td>\n",
       "      <td>-0.055973</td>\n",
       "      <td>-0.160251</td>\n",
       "      <td>-0.006719</td>\n",
       "    </tr>\n",
       "    <tr>\n",
       "      <th>Chloramines</th>\n",
       "      <td>-0.025428</td>\n",
       "      <td>-0.075316</td>\n",
       "      <td>1.000000</td>\n",
       "      <td>-0.024329</td>\n",
       "      <td>-0.016638</td>\n",
       "      <td>-0.008555</td>\n",
       "      <td>-0.029079</td>\n",
       "      <td>0.003724</td>\n",
       "      <td>0.017276</td>\n",
       "    </tr>\n",
       "    <tr>\n",
       "      <th>Conductivity</th>\n",
       "      <td>-0.046913</td>\n",
       "      <td>0.016267</td>\n",
       "      <td>-0.024329</td>\n",
       "      <td>1.000000</td>\n",
       "      <td>0.016295</td>\n",
       "      <td>0.020973</td>\n",
       "      <td>0.010788</td>\n",
       "      <td>-0.021495</td>\n",
       "      <td>0.018741</td>\n",
       "    </tr>\n",
       "    <tr>\n",
       "      <th>Organic_carbon</th>\n",
       "      <td>0.019890</td>\n",
       "      <td>0.032627</td>\n",
       "      <td>-0.016638</td>\n",
       "      <td>0.016295</td>\n",
       "      <td>1.000000</td>\n",
       "      <td>-0.024333</td>\n",
       "      <td>0.049783</td>\n",
       "      <td>0.041937</td>\n",
       "      <td>0.013133</td>\n",
       "    </tr>\n",
       "    <tr>\n",
       "      <th>Turbidity</th>\n",
       "      <td>-0.007436</td>\n",
       "      <td>0.013813</td>\n",
       "      <td>-0.008555</td>\n",
       "      <td>0.020973</td>\n",
       "      <td>-0.024333</td>\n",
       "      <td>1.000000</td>\n",
       "      <td>-0.038699</td>\n",
       "      <td>-0.000653</td>\n",
       "      <td>-0.014935</td>\n",
       "    </tr>\n",
       "    <tr>\n",
       "      <th>ph</th>\n",
       "      <td>0.089940</td>\n",
       "      <td>-0.055973</td>\n",
       "      <td>-0.029079</td>\n",
       "      <td>0.010788</td>\n",
       "      <td>0.049783</td>\n",
       "      <td>-0.038699</td>\n",
       "      <td>1.000000</td>\n",
       "      <td>0.017882</td>\n",
       "      <td>0.018010</td>\n",
       "    </tr>\n",
       "    <tr>\n",
       "      <th>Sulfate</th>\n",
       "      <td>-0.106678</td>\n",
       "      <td>-0.160251</td>\n",
       "      <td>0.003724</td>\n",
       "      <td>-0.021495</td>\n",
       "      <td>0.041937</td>\n",
       "      <td>-0.000653</td>\n",
       "      <td>0.017882</td>\n",
       "      <td>1.000000</td>\n",
       "      <td>-0.033332</td>\n",
       "    </tr>\n",
       "    <tr>\n",
       "      <th>Trihalomethanes</th>\n",
       "      <td>0.000758</td>\n",
       "      <td>-0.006719</td>\n",
       "      <td>0.017276</td>\n",
       "      <td>0.018741</td>\n",
       "      <td>0.013133</td>\n",
       "      <td>-0.014935</td>\n",
       "      <td>0.018010</td>\n",
       "      <td>-0.033332</td>\n",
       "      <td>1.000000</td>\n",
       "    </tr>\n",
       "  </tbody>\n",
       "</table>\n",
       "</div>"
      ],
      "text/plain": [
       "                 Hardness    Solids  Chloramines  Conductivity  \\\n",
       "Hardness         1.000000 -0.034806    -0.025428     -0.046913   \n",
       "Solids          -0.034806  1.000000    -0.075316      0.016267   \n",
       "Chloramines     -0.025428 -0.075316     1.000000     -0.024329   \n",
       "Conductivity    -0.046913  0.016267    -0.024329      1.000000   \n",
       "Organic_carbon   0.019890  0.032627    -0.016638      0.016295   \n",
       "Turbidity       -0.007436  0.013813    -0.008555      0.020973   \n",
       "ph               0.089940 -0.055973    -0.029079      0.010788   \n",
       "Sulfate         -0.106678 -0.160251     0.003724     -0.021495   \n",
       "Trihalomethanes  0.000758 -0.006719     0.017276      0.018741   \n",
       "\n",
       "                 Organic_carbon  Turbidity        ph   Sulfate  \\\n",
       "Hardness               0.019890  -0.007436  0.089940 -0.106678   \n",
       "Solids                 0.032627   0.013813 -0.055973 -0.160251   \n",
       "Chloramines           -0.016638  -0.008555 -0.029079  0.003724   \n",
       "Conductivity           0.016295   0.020973  0.010788 -0.021495   \n",
       "Organic_carbon         1.000000  -0.024333  0.049783  0.041937   \n",
       "Turbidity             -0.024333   1.000000 -0.038699 -0.000653   \n",
       "ph                     0.049783  -0.038699  1.000000  0.017882   \n",
       "Sulfate                0.041937  -0.000653  0.017882  1.000000   \n",
       "Trihalomethanes        0.013133  -0.014935  0.018010 -0.033332   \n",
       "\n",
       "                 Trihalomethanes  \n",
       "Hardness                0.000758  \n",
       "Solids                 -0.006719  \n",
       "Chloramines             0.017276  \n",
       "Conductivity            0.018741  \n",
       "Organic_carbon          0.013133  \n",
       "Turbidity              -0.014935  \n",
       "ph                      0.018010  \n",
       "Sulfate                -0.033332  \n",
       "Trihalomethanes         1.000000  "
      ]
     },
     "execution_count": 47,
     "metadata": {},
     "output_type": "execute_result"
    }
   ],
   "source": [
    "X_train.corr()"
   ]
  },
  {
   "cell_type": "code",
   "execution_count": 48,
   "id": "5cac1c8c-57f3-4ddc-915c-0faaa415814d",
   "metadata": {},
   "outputs": [
    {
     "data": {
      "text/plain": [
       "<AxesSubplot:>"
      ]
     },
     "execution_count": 48,
     "metadata": {},
     "output_type": "execute_result"
    },
    {
     "data": {
      "image/png": "[encoded data removed]",
      "text/plain": [
       "<Figure size 720x504 with 2 Axes>"
      ]
     },
     "metadata": {},
     "output_type": "display_data"
    }
   ],
   "source": [
    "import seaborn as sns\n",
    "corr=X_train.corr()\n",
    "top_features=corr.index\n",
    "plt.figure(figsize=(10,7))\n",
    "sns.heatmap(X_train[top_features].corr(),annot=True)\n"
   ]
  },
  {
   "cell_type": "markdown",
   "id": "bb3c14c8-dea7-4529-9550-5a9e03e1fe06",
   "metadata": {},
   "source": [
    "### Reduction Of `Multi Collinearity`"
   ]
  },
  {
   "cell_type": "code",
   "execution_count": 49,
   "id": "e1aba9db-8753-4165-b736-b50a002d77e3",
   "metadata": {},
   "outputs": [],
   "source": [
    "threshold=0.6"
   ]
  },
  {
   "cell_type": "code",
   "execution_count": 50,
   "id": "b04c21aa-5fd4-49de-b90d-f7c50c2ef21b",
   "metadata": {},
   "outputs": [],
   "source": [
    "# find and remove correlated features\n",
    "def correlation(dataset, threshold):\n",
    "    col_corr = set()  # Set of all the names of correlated columns\n",
    "    corr_matrix = dataset.corr()\n",
    "    for i in range(len(corr_matrix.columns)):\n",
    "        for j in range(i):\n",
    "            if abs(corr_matrix.iloc[i, j]) > threshold: # we are interested in absolute coeff value\n",
    "                colname = corr_matrix.columns[i]  # getting the name of column\n",
    "                col_corr.add(colname)\n",
    "    return col_corr"
   ]
  },
  {
   "cell_type": "code",
   "execution_count": 51,
   "id": "2ea19bcf-e1e3-47a9-ab7e-cbc4e9be6d98",
   "metadata": {},
   "outputs": [
    {
     "data": {
      "text/plain": [
       "set()"
      ]
     },
     "execution_count": 51,
     "metadata": {},
     "output_type": "execute_result"
    }
   ],
   "source": [
    "correlation(X_train,threshold)"
   ]
  },
  {
   "cell_type": "markdown",
   "id": "ad5a80bf-1c5e-4bb7-a69f-165376926e86",
   "metadata": {},
   "source": [
    "#### Information Gain"
   ]
  },
  {
   "cell_type": "code",
   "execution_count": 52,
   "id": "b48c4a17-5aff-49dd-8dc2-9b4a53ab600b",
   "metadata": {},
   "outputs": [],
   "source": [
    "from sklearn.feature_selection import mutual_info_classif"
   ]
  },
  {
   "cell_type": "code",
   "execution_count": 53,
   "id": "578572a8-ce92-4110-b80e-376ab7b552fe",
   "metadata": {},
   "outputs": [],
   "source": [
    "mutual_info=mutual_info_classif(X_train,y_train)"
   ]
  },
  {
   "cell_type": "code",
   "execution_count": 54,
   "id": "5be81317-53bf-425b-879c-0633efcd617f",
   "metadata": {},
   "outputs": [
    {
     "data": {
      "text/plain": [
       "Turbidity          0.019079\n",
       "Sulfate            0.013652\n",
       "ph                 0.011731\n",
       "Hardness           0.006109\n",
       "Conductivity       0.000936\n",
       "Organic_carbon     0.000755\n",
       "Solids             0.000000\n",
       "Chloramines        0.000000\n",
       "Trihalomethanes    0.000000\n",
       "dtype: float64"
      ]
     },
     "execution_count": 54,
     "metadata": {},
     "output_type": "execute_result"
    }
   ],
   "source": [
    "mutual_data=pd.Series(mutual_info,index=X_train.columns)\n",
    "mutual_data.sort_values(ascending=False)"
   ]
  },
  {
   "cell_type": "markdown",
   "id": "7e830bfc-5ef7-49b0-ac32-be190306fade",
   "metadata": {},
   "source": [
    "From the above Information, <br>\n",
    "let us take the mentioned below Feature wrt, target variable <br>\n",
    "\n",
    "- Solids         <br>\n",
    "- Chloramines          <br>\n",
    "- Trihalomethanes        <br>\n"
   ]
  },
  {
   "cell_type": "code",
   "execution_count": 55,
   "id": "581b9e13-2a14-48db-878c-1160f709f7f1",
   "metadata": {},
   "outputs": [],
   "source": [
    "X_train = X_train.drop(columns = ['Solids', 'Chloramines', 'Trihalomethanes'])"
   ]
  },
  {
   "cell_type": "code",
   "execution_count": 56,
   "id": "9e3a6909-20a4-4d2b-aa5b-3c6c88a515aa",
   "metadata": {},
   "outputs": [],
   "source": [
    "X_test = X_test.drop(columns = ['Solids', 'Chloramines', 'Trihalomethanes'])"
   ]
  },
  {
   "cell_type": "markdown",
   "id": "40b44516-a2d6-4f80-ac35-c0ad04a9092d",
   "metadata": {},
   "source": [
    "#### Final Dimensions - After All `Features Engineering` and `Selection Is completed`"
   ]
  },
  {
   "cell_type": "code",
   "execution_count": 57,
   "id": "c957d874-4aed-4cf9-b8cb-300f231567af",
   "metadata": {},
   "outputs": [
    {
     "data": {
      "text/plain": [
       "(983, 6)"
      ]
     },
     "execution_count": 57,
     "metadata": {},
     "output_type": "execute_result"
    }
   ],
   "source": [
    "X_test.shape"
   ]
  },
  {
   "cell_type": "code",
   "execution_count": 58,
   "id": "28b7867a-13b4-41b5-be4c-5f6866db7fcb",
   "metadata": {},
   "outputs": [
    {
     "data": {
      "text/plain": [
       "(2293, 6)"
      ]
     },
     "execution_count": 58,
     "metadata": {},
     "output_type": "execute_result"
    }
   ],
   "source": [
    "X_train.shape"
   ]
  },
  {
   "cell_type": "markdown",
   "id": "a113a2d0-0b90-413b-bf78-8c924800e609",
   "metadata": {},
   "source": [
    "### Checking for `Outliers`"
   ]
  },
  {
   "cell_type": "markdown",
   "id": "aabc3fdb-deab-4eee-b0cb-d3333ac4504e",
   "metadata": {},
   "source": [
    "##### Which Machine LEarning Models Are Sensitive To Outliers?\n",
    "1. Naivye Bayes Classifier--- Not Sensitive To Outliers\n",
    "2. SVM--------                Not Sensitive To Outliers          \n",
    "3. Linear Regression----------  Sensitive To Outliers\n",
    "4. Logistic Regression-------   Sensitive To Outliers\n",
    "5. Decision Tree Regressor or Classifier---- Not Sensitive\n",
    "6. Ensemble(RF,XGboost,GB)------- Not Sensitive\n",
    "7. KNN--------------------------- Not Sensitive \n",
    "8. Kmeans------------------------ Sensitive\n",
    "9. Hierarichal------------------- Sensitive \n",
    "10. PCA-------------------------- Sensitive \n",
    "11. Neural Networks-------------- Sensitive"
   ]
  },
  {
   "cell_type": "code",
   "execution_count": 59,
   "id": "a941261e-b1a0-47eb-94d0-b79ab5272e16",
   "metadata": {},
   "outputs": [
    {
     "data": {
      "text/plain": [
       "Index(['Hardness', 'Conductivity', 'Organic_carbon', 'Turbidity', 'ph',\n",
       "       'Sulfate'],\n",
       "      dtype='object')"
      ]
     },
     "execution_count": 59,
     "metadata": {},
     "output_type": "execute_result"
    }
   ],
   "source": [
    "X_train.columns"
   ]
  },
  {
   "cell_type": "code",
   "execution_count": 60,
   "id": "fe7df740-980e-4b24-8029-f875c9ea20b0",
   "metadata": {},
   "outputs": [],
   "source": [
    "# Checking for outliers in the continuous variables\n",
    "num_X_train = X_train[['Hardness', 'Conductivity', 'Organic_carbon', 'Turbidity', 'ph','Sulfate']]"
   ]
  },
  {
   "cell_type": "code",
   "execution_count": null,
   "id": "5a5d577b-8db0-49b6-9ed5-39fad334b663",
   "metadata": {},
   "outputs": [
    {
     "data": {
      "text/html": [
       "<div>\n",
       "<style scoped>\n",
       "    .dataframe tbody tr th:only-of-type {\n",
       "        vertical-align: middle;\n",
       "    }\n",
       "\n",
       "    .dataframe tbody tr th {\n",
       "        vertical-align: top;\n",
       "    }\n",
       "\n",
       "    .dataframe thead th {\n",
       "        text-align: right;\n",
       "    }\n",
       "</style>\n",
       "<table border=\"1\" class=\"dataframe\">\n",
       "  <thead>\n",
       "    <tr style=\"text-align: right;\">\n",
       "      <th></th>\n",
       "      <th>Hardness</th>\n",
       "      <th>Conductivity</th>\n",
       "      <th>Organic_carbon</th>\n",
       "      <th>Turbidity</th>\n",
       "      <th>ph</th>\n",
       "      <th>Sulfate</th>\n",
       "    </tr>\n",
       "  </thead>\n",
       "  <tbody>\n",
       "    <tr>\n",
       "      <th>count</th>\n",
       "      <td>2293.000000</td>\n",
       "      <td>2293.000000</td>\n",
       "      <td>2293.000000</td>\n",
       "      <td>2293.000000</td>\n",
       "      <td>2293.000000</td>\n",
       "      <td>2293.000000</td>\n",
       "    </tr>\n",
       "    <tr>\n",
       "      <th>mean</th>\n",
       "      <td>-0.002888</td>\n",
       "      <td>0.035332</td>\n",
       "      <td>0.015238</td>\n",
       "      <td>-0.000296</td>\n",
       "      <td>0.033365</td>\n",
       "      <td>0.004578</td>\n",
       "    </tr>\n",
       "    <tr>\n",
       "      <th>std</th>\n",
       "      <td>0.831040</td>\n",
       "      <td>0.689261</td>\n",
       "      <td>0.734216</td>\n",
       "      <td>0.730168</td>\n",
       "      <td>0.813348</td>\n",
       "      <td>0.790693</td>\n",
       "    </tr>\n",
       "    <tr>\n",
       "      <th>min</th>\n",
       "      <td>-2.583734</td>\n",
       "      <td>-2.071391</td>\n",
       "      <td>-2.675587</td>\n",
       "      <td>-2.361877</td>\n",
       "      <td>-3.547225</td>\n",
       "      <td>-3.906685</td>\n",
       "    </tr>\n",
       "    <tr>\n",
       "      <th>25%</th>\n",
       "      <td>-0.507013</td>\n",
       "      <td>-0.478332</td>\n",
       "      <td>-0.475566</td>\n",
       "      <td>-0.490746</td>\n",
       "      <td>-0.468916</td>\n",
       "      <td>-0.488943</td>\n",
       "    </tr>\n",
       "    <tr>\n",
       "      <th>50%</th>\n",
       "      <td>0.008026</td>\n",
       "      <td>0.001331</td>\n",
       "      <td>-0.007636</td>\n",
       "      <td>-0.015101</td>\n",
       "      <td>0.012503</td>\n",
       "      <td>-0.017732</td>\n",
       "    </tr>\n",
       "    <tr>\n",
       "      <th>75%</th>\n",
       "      <td>0.508631</td>\n",
       "      <td>0.516009</td>\n",
       "      <td>0.519653</td>\n",
       "      <td>0.500800</td>\n",
       "      <td>0.548452</td>\n",
       "      <td>0.518344</td>\n",
       "    </tr>\n",
       "    <tr>\n",
       "      <th>90%</th>\n",
       "      <td>1.004722</td>\n",
       "      <td>0.949998</td>\n",
       "      <td>0.944848</td>\n",
       "      <td>0.942614</td>\n",
       "      <td>1.058468</td>\n",
       "      <td>0.981380</td>\n",
       "    </tr>\n",
       "    <tr>\n",
       "      <th>95%</th>\n",
       "      <td>1.348951</td>\n",
       "      <td>1.211064</td>\n",
       "      <td>1.196574</td>\n",
       "      <td>1.180106</td>\n",
       "      <td>1.402574</td>\n",
       "      <td>1.319435</td>\n",
       "    </tr>\n",
       "    <tr>\n",
       "      <th>99%</th>\n",
       "      <td>2.037302</td>\n",
       "      <td>1.639084</td>\n",
       "      <td>1.719739</td>\n",
       "      <td>1.648406</td>\n",
       "      <td>1.970427</td>\n",
       "      <td>1.927068</td>\n",
       "    </tr>\n",
       "    <tr>\n",
       "      <th>max</th>\n",
       "      <td>3.168411</td>\n",
       "      <td>2.855968</td>\n",
       "      <td>2.847016</td>\n",
       "      <td>2.394588</td>\n",
       "      <td>3.517462</td>\n",
       "      <td>2.838830</td>\n",
       "    </tr>\n",
       "  </tbody>\n",
       "</table>\n",
       "</div>"
      ],
      "text/plain": [
       "          Hardness  Conductivity  Organic_carbon    Turbidity           ph  \\\n",
       "count  2293.000000   2293.000000     2293.000000  2293.000000  2293.000000   \n",
       "mean     -0.002888      0.035332        0.015238    -0.000296     0.033365   \n",
       "std       0.831040      0.689261        0.734216     0.730168     0.813348   \n",
       "min      -2.583734     -2.071391       -2.675587    -2.361877    -3.547225   \n",
       "25%      -0.507013     -0.478332       -0.475566    -0.490746    -0.468916   \n",
       "50%       0.008026      0.001331       -0.007636    -0.015101     0.012503   \n",
       "75%       0.508631      0.516009        0.519653     0.500800     0.548452   \n",
       "90%       1.004722      0.949998        0.944848     0.942614     1.058468   \n",
       "95%       1.348951      1.211064        1.196574     1.180106     1.402574   \n",
       "99%       2.037302      1.639084        1.719739     1.648406     1.970427   \n",
       "max       3.168411      2.855968        2.847016     2.394588     3.517462   \n",
       "\n",
       "           Sulfate  \n",
       "count  2293.000000  \n",
       "mean      0.004578  \n",
       "std       0.790693  \n",
       "min      -3.906685  \n",
       "25%      -0.488943  \n",
       "50%      -0.017732  \n",
       "75%       0.518344  \n",
       "90%       0.981380  \n",
       "95%       1.319435  \n",
       "99%       1.927068  \n",
       "max       2.838830  "
      ]
     },
     "execution_count": 61,
     "metadata": {},
     "output_type": "execute_result"
    }
   ],
   "source": [
    "# Checking outliers at 25%, 50%, 75%, 90%, 95% and 99%\n",
    "num_X_train.describe(percentiles=[.25, .5, .75, .90, .95, .99])"
   ]
  },
  {
   "cell_type": "code",
   "execution_count": null,
   "id": "fddfe1dc-d7da-480e-aaf6-e716c7143545",
   "metadata": {},
   "outputs": [],
   "source": [
    "Q1 = X_train.quantile(0.25)\n",
    "Q3 = X_train.quantile(0.75)\n",
    "IQR = Q3 - Q1\n",
    "print(IQR)"
   ]
  },
  {
   "cell_type": "markdown",
   "id": "d0d0d5c4-20d7-4a58-bd16-f50d21c2331b",
   "metadata": {},
   "source": [
    "## Outlier Treatment"
   ]
  },
  {
   "cell_type": "markdown",
   "id": "97349916-2c39-4eae-b4da-bf8bfc270082",
   "metadata": {},
   "source": [
    "Perhaps the most important hyperparameter in the model is the “contamination” argument, which is used to help estimate the number of outliers in the dataset. This is a value between 0.0 and 0.5 and by default is set to 0.1."
   ]
  },
  {
   "cell_type": "markdown",
   "id": "f356d0bb-0a36-4bf1-a961-cf516214dd5d",
   "metadata": {},
   "source": [
    "## Isolation Forest"
   ]
  },
  {
   "cell_type": "markdown",
   "id": "29774739-f064-4dd3-8517-bb02f3d1314d",
   "metadata": {},
   "source": [
    "`Isolation Forest`, or iForest for short, is a tree-based anomaly detection algorithm.\n",
    "\n",
    "It is based on modeling the normal data in such a way as to isolate anomalies that are both few in number and different in the feature space.\n",
    "\n",
    "for reference,\n",
    "https://machinelearningmastery.com/model-based-outlier-detection-and-removal-in-python/\n"
   ]
  },
  {
   "cell_type": "code",
   "execution_count": null,
   "id": "5c3f0a96-3606-4c03-af79-bea898dceda5",
   "metadata": {},
   "outputs": [],
   "source": [
    "from pandas import read_csv\n",
    "from sklearn.model_selection import train_test_split\n",
    "from sklearn.linear_model import LinearRegression\n",
    "from sklearn.ensemble import IsolationForest\n",
    "from sklearn.metrics import mean_absolute_error"
   ]
  },
  {
   "cell_type": "code",
   "execution_count": null,
   "id": "d2dc46e3-28d9-4661-ad81-0a2d6a526f59",
   "metadata": {},
   "outputs": [],
   "source": [
    "# identify outliers in the training dataset\n",
    "iso = IsolationForest(contamination=0.1)\n",
    "yhat = iso.fit_predict(X_train)"
   ]
  },
  {
   "cell_type": "code",
   "execution_count": null,
   "id": "42f78d2b-97da-4e16-b23a-be0cd6907b1f",
   "metadata": {},
   "outputs": [],
   "source": [
    "# select all rows that are not outliers\n",
    "mask = yhat != -1"
   ]
  },
  {
   "cell_type": "code",
   "execution_count": null,
   "id": "737257f0-9c94-4ad5-b49a-f88b61b28bd3",
   "metadata": {},
   "outputs": [],
   "source": [
    "X_train = X_train[mask]"
   ]
  },
  {
   "cell_type": "code",
   "execution_count": null,
   "id": "d14facc7-6537-4559-8e3d-6995f2e034e2",
   "metadata": {},
   "outputs": [],
   "source": [
    "y_train = y_train[mask]"
   ]
  },
  {
   "cell_type": "code",
   "execution_count": null,
   "id": "ab3d0774-020a-4807-99b0-21c3a89e247f",
   "metadata": {},
   "outputs": [],
   "source": [
    "# summarize the shape of the updated training dataset\n",
    "print(X_train.shape, y_train.shape)"
   ]
  },
  {
   "cell_type": "markdown",
   "id": "9e6acfdb-4d6f-4f56-9abe-dbfecf4a7345",
   "metadata": {},
   "source": [
    "## PIPELINE CREATION"
   ]
  },
  {
   "cell_type": "code",
   "execution_count": null,
   "id": "48a783af-3d88-42c9-a2b2-a6732c47572f",
   "metadata": {},
   "outputs": [],
   "source": [
    "## Pipelines Creation\n",
    "## 1. Data Preprocessing by using Standard Scaler\n",
    "## 2. Reduce Dimension using PCA\n",
    "## 3. Apply  Classifier"
   ]
  },
  {
   "cell_type": "code",
   "execution_count": null,
   "id": "b166f878-7c89-4f49-90f1-747f56e37133",
   "metadata": {},
   "outputs": [],
   "source": [
    "from sklearn.datasets import load_iris\n",
    "from sklearn.model_selection import train_test_split\n",
    "from sklearn.preprocessing import StandardScaler\n",
    "from sklearn.decomposition import PCA\n",
    "from sklearn.pipeline import Pipeline\n",
    "from sklearn.linear_model import LogisticRegression\n",
    "from sklearn.tree import DecisionTreeClassifier\n",
    "from sklearn.ensemble import RandomForestClassifier\n",
    "from sklearn.ensemble import GradientBoostingClassifier\n",
    "from xgboost import XGBClassifier"
   ]
  },
  {
   "cell_type": "code",
   "execution_count": null,
   "id": "9f533636-b65d-400c-a954-b96b91e92d79",
   "metadata": {},
   "outputs": [],
   "source": [
    "pipeline_lr=Pipeline([('scalar1',RobustScaler()),\n",
    "                     ('pca1',PCA(n_components=2)),\n",
    "                     ('lr_classifier',LogisticRegression(random_state=0))])"
   ]
  },
  {
   "cell_type": "code",
   "execution_count": null,
   "id": "1cc82b9e-b591-4750-9f2f-61ee867b6999",
   "metadata": {},
   "outputs": [],
   "source": [
    "pipeline_dt=Pipeline([('scalar2',RobustScaler()),\n",
    "                     ('pca2',PCA(n_components=2)),\n",
    "                     ('dt_classifier',DecisionTreeClassifier())])"
   ]
  },
  {
   "cell_type": "code",
   "execution_count": null,
   "id": "46f4285a-d90b-4243-b6c2-f991c578c7f9",
   "metadata": {},
   "outputs": [],
   "source": [
    "pipeline_randomforest=Pipeline([('scalar3',RobustScaler()),\n",
    "                     ('pca3',PCA(n_components=2)),\n",
    "                     ('rf_classifier',RandomForestClassifier())])"
   ]
  },
  {
   "cell_type": "code",
   "execution_count": null,
   "id": "2ac5d71e-aa26-408c-b301-c8435a7e4847",
   "metadata": {},
   "outputs": [],
   "source": [
    "pipeline_gradient_boost=Pipeline([('scalar4',RobustScaler()),\n",
    "                     ('pca4',PCA(n_components=2)),\n",
    "                     ('gb_classifier',GradientBoostingClassifier())])"
   ]
  },
  {
   "cell_type": "code",
   "execution_count": null,
   "id": "7d64a81f-7530-45c3-ad40-9fa0e314d49a",
   "metadata": {},
   "outputs": [],
   "source": [
    "pipeline_XGboost=Pipeline([('scalar5',RobustScaler()),\n",
    "                          ('pca5',PCA(n_components=2)),\n",
    "                          ('xgb_classifier',XGBClassifier())])"
   ]
  },
  {
   "cell_type": "code",
   "execution_count": null,
   "id": "2d1c020f-1730-4e7d-918f-2c1d20116656",
   "metadata": {},
   "outputs": [],
   "source": [
    "## LEts make the list of pipelines\n",
    "pipelines = [pipeline_lr, pipeline_dt, pipeline_randomforest,pipeline_gradient_boost,pipeline_XGboost]"
   ]
  },
  {
   "cell_type": "code",
   "execution_count": null,
   "id": "b4e95d79-4542-45f6-8836-eb62c2abdef2",
   "metadata": {},
   "outputs": [],
   "source": [
    "best_accuracy=0.0\n",
    "best_classifier=0\n",
    "best_pipeline=\"\""
   ]
  },
  {
   "cell_type": "code",
   "execution_count": null,
   "id": "7bda8b43-eafa-4527-ab19-4a9464434a09",
   "metadata": {},
   "outputs": [],
   "source": [
    "# Dictionary of pipelines and classifier types for ease of reference\n",
    "pipe_dict = {0: 'Logistic Regression', 1: 'Decision Tree', 2: 'RandomForest', 3: 'Gradient Boost', 4: 'Extreme Gradient Boost'}\n",
    "\n",
    "# Fit the pipelines\n",
    "for pipe in pipelines:\n",
    "\tpipe.fit(X_train, y_train)"
   ]
  },
  {
   "cell_type": "code",
   "execution_count": null,
   "id": "3779e73d-6e02-4b03-9864-4cd93cbb3b6f",
   "metadata": {},
   "outputs": [],
   "source": [
    "for i,model in enumerate(pipelines):\n",
    "    print(\"{} Test Accuracy: {}\".format(pipe_dict[i],model.score(X_test,y_test)))"
   ]
  },
  {
   "cell_type": "code",
   "execution_count": null,
   "id": "5d660f24-1c0c-4503-81d0-1917d656ee25",
   "metadata": {},
   "outputs": [],
   "source": [
    "for i,model in enumerate(pipelines):\n",
    "    if model.score(X_test,y_test)>best_accuracy:\n",
    "        best_accuracy=model.score(X_test,y_test)\n",
    "        best_pipeline=model\n",
    "        best_classifier=i\n",
    "print('Classifier with best accuracy:{}'.format(pipe_dict[best_classifier]))"
   ]
  },
  {
   "cell_type": "code",
   "execution_count": null,
   "id": "cd0472d3-4e67-49da-b7e5-528d04242f0f",
   "metadata": {
    "tags": []
   },
   "outputs": [],
   "source": [
    "y_test.value_counts()"
   ]
  },
  {
   "cell_type": "markdown",
   "id": "022ebac8-92e7-4998-8191-175c048d54ac",
   "metadata": {},
   "source": [
    "### Let's Use XGBoost Classifier"
   ]
  },
  {
   "cell_type": "code",
   "execution_count": null,
   "id": "55d6410e-733e-415e-9011-5e7fc8122370",
   "metadata": {},
   "outputs": [],
   "source": [
    "import xgboost as xgb"
   ]
  },
  {
   "cell_type": "code",
   "execution_count": null,
   "id": "476b55f0-a23b-43d6-9c53-e78f7750a71b",
   "metadata": {},
   "outputs": [],
   "source": [
    "xgb = XGBClassifier(n_estimators=100)\n",
    "xgb.fit(X_train, y_train)\n",
    "preds = xgb.predict(X_test)\n",
    "acc_xgb = (preds == y_test).sum().astype(float) / len(preds)*100\n",
    "print(\"XGBoost's prediction accuracy is: %3.2f\" % (acc_xgb))\n"
   ]
  },
  {
   "cell_type": "code",
   "execution_count": null,
   "id": "e12b513b-3782-43e2-b252-77848b3696de",
   "metadata": {},
   "outputs": [],
   "source": [
    "y_pred = xgb.predict(X_test)"
   ]
  },
  {
   "cell_type": "code",
   "execution_count": null,
   "id": "57ce5719-a42e-4df9-8077-3c36441df1e0",
   "metadata": {},
   "outputs": [],
   "source": [
    "y_pred[0:20]"
   ]
  },
  {
   "cell_type": "code",
   "execution_count": null,
   "id": "2900bb9d-77f5-46b6-9c37-1046953cfafb",
   "metadata": {},
   "outputs": [],
   "source": [
    "param_test1 = {\n",
    " 'max_depth':range(3,10,2),\n",
    " 'min_child_weight':range(1,6,2)\n",
    "}"
   ]
  },
  {
   "cell_type": "code",
   "execution_count": null,
   "id": "2f84958a-75d1-4bba-a3fe-6be88c7d602a",
   "metadata": {},
   "outputs": [],
   "source": [
    "from sklearn.model_selection import GridSearchCV\n",
    "gsearch1 = GridSearchCV(estimator = XGBClassifier( learning_rate =0.1, n_estimators=140, max_depth=5,\n",
    " min_child_weight=1, gamma=0, subsample=0.8, colsample_bytree=0.8,\n",
    " objective= 'binary:logistic', nthread=4, scale_pos_weight=1, seed=27), \n",
    " param_grid = param_test1,n_jobs=4, cv=5)"
   ]
  },
  {
   "cell_type": "code",
   "execution_count": null,
   "id": "f0d20d75-2589-4a4f-9c15-4dad97012bd3",
   "metadata": {},
   "outputs": [],
   "source": [
    "gsearch1.fit(X_train,y_train)"
   ]
  },
  {
   "cell_type": "code",
   "execution_count": null,
   "id": "ff09a546-cb7c-422b-8c4f-b5908605bfe9",
   "metadata": {},
   "outputs": [],
   "source": [
    "y_pred = gsearch1.predict(X_test)"
   ]
  },
  {
   "cell_type": "code",
   "execution_count": null,
   "id": "48cfa278-81c1-4c1e-92d4-1994b7cf3c36",
   "metadata": {},
   "outputs": [],
   "source": [
    "from sklearn import metrics"
   ]
  },
  {
   "cell_type": "markdown",
   "id": "737341e2-3d37-4f7d-b18d-6c1d94260d6e",
   "metadata": {},
   "source": [
    "### Plotting the `Confusion Matrix`"
   ]
  },
  {
   "cell_type": "code",
   "execution_count": null,
   "id": "2776e1c2-82d9-4851-8fd3-c1be1571ca2b",
   "metadata": {},
   "outputs": [],
   "source": [
    "# Confusion matrix \n",
    "confusion = metrics.confusion_matrix(y_test, y_pred)\n",
    "print(confusion)"
   ]
  },
  {
   "cell_type": "code",
   "execution_count": null,
   "id": "7e5905da-7034-45cb-9fe9-51d9e3b74c31",
   "metadata": {},
   "outputs": [],
   "source": [
    "print(metrics.classification_report(y_test, y_pred))"
   ]
  },
  {
   "cell_type": "code",
   "execution_count": null,
   "id": "2fba3a76-8e1e-4ee6-b261-3b7295623cc5",
   "metadata": {},
   "outputs": [],
   "source": [
    "#\n",
    "# Print the confusion matrix using Matplotlib\n",
    "#\n",
    "plt.figure(figsize = [5,5])\n",
    "fig, ax = plt.subplots(figsize=(5, 5))\n",
    "ax.matshow(confusion, cmap=plt.cm.Reds, alpha=0.3)\n",
    "for i in range(confusion.shape[0]):\n",
    "    for j in range(confusion.shape[1]):\n",
    "        ax.text(x=j, y=i,s=confusion[i, j], va='center', ha='center', size='xx-large')\n",
    " \n",
    "plt.xlabel('Predictions', fontsize=18)\n",
    "plt.ylabel('Actuals', fontsize=18)\n",
    "plt.title('Confusion Matrix', fontsize=18)\n",
    "plt.show()"
   ]
  },
  {
   "cell_type": "code",
   "execution_count": null,
   "id": "45f79079-b5ab-46e3-bae9-57dedb6e44f5",
   "metadata": {},
   "outputs": [],
   "source": [
    "# Let's check the overall accuracy.\n",
    "print(metrics.accuracy_score(y_test, y_pred))"
   ]
  },
  {
   "cell_type": "markdown",
   "id": "33289146-2c64-43f9-bb1d-f44df1e3b46e",
   "metadata": {},
   "source": [
    "### ROC CURVE"
   ]
  },
  {
   "cell_type": "markdown",
   "id": "fa9f10ef-8a9a-4736-ad39-93dfbf5f18e1",
   "metadata": {},
   "source": [
    "An ROC curve demonstrates several things:\n",
    "\n",
    "- It shows the tradeoff between sensitivity and specificity (any increase in sensitivity will be accompanied by a decrease in specificity).\n",
    "- The closer the curve follows the left-hand border and then the top border of the ROC space, the more accurate the test.\n",
    "- The closer the curve comes to the 45-degree diagonal of the ROC space, the less accurate the test."
   ]
  },
  {
   "cell_type": "code",
   "execution_count": null,
   "id": "bcb9299b-e0ea-460d-b805-fe436673689b",
   "metadata": {},
   "outputs": [],
   "source": [
    "def draw_roc( actual, probs ):\n",
    "    fpr, tpr, thresholds = metrics.roc_curve( actual, probs,\n",
    "                                              drop_intermediate = False )\n",
    "    auc_score = metrics.roc_auc_score( actual, probs )\n",
    "    plt.figure(figsize=(5, 5))\n",
    "    plt.plot( fpr, tpr, label='ROC curve (area = %0.2f)' % auc_score )\n",
    "    plt.plot([0, 1], [0, 1], 'k--')\n",
    "    plt.xlim([0.0, 1.0])\n",
    "    plt.ylim([0.0, 1.05])\n",
    "    plt.xlabel('False Positive Rate or [1 - True Negative Rate]')\n",
    "    plt.ylabel('True Positive Rate')\n",
    "    plt.title('Receiver operating characteristic example')\n",
    "    plt.legend(loc=\"lower right\")\n",
    "    plt.show()\n",
    "\n",
    "    return None"
   ]
  },
  {
   "cell_type": "code",
   "execution_count": null,
   "id": "5149f529-e118-40c4-b95e-2cbb0855e4bc",
   "metadata": {},
   "outputs": [],
   "source": [
    "fpr, tpr, thresholds = metrics.roc_curve(y_test, y_pred, drop_intermediate = False )"
   ]
  },
  {
   "cell_type": "code",
   "execution_count": null,
   "id": "b5ad4d65-ca0f-46a2-8c1a-642d162bac83",
   "metadata": {},
   "outputs": [],
   "source": [
    "plt.figure(figsize= [8,8])\n",
    "draw_roc(y_test, y_pred)"
   ]
  },
  {
   "cell_type": "code",
   "execution_count": null,
   "id": "71534642-9fc7-4dc8-ac43-e31e86093f2c",
   "metadata": {},
   "outputs": [],
   "source": [
    "# Converting y_pred to a dataframe which is an array\n",
    "y_pred_1 = pd.DataFrame(y_pred)"
   ]
  },
  {
   "cell_type": "code",
   "execution_count": null,
   "id": "69192261-0857-4183-b4c7-81181951ea0f",
   "metadata": {},
   "outputs": [],
   "source": [
    "# Let's see the head\n",
    "y_pred_1.head()"
   ]
  },
  {
   "cell_type": "code",
   "execution_count": null,
   "id": "4267a8d1-1185-4762-94c3-65811f19ca08",
   "metadata": {},
   "outputs": [],
   "source": [
    "y_test_df = X_test"
   ]
  },
  {
   "cell_type": "code",
   "execution_count": null,
   "id": "e8e19fe8-2077-4317-93b0-7d1b628582ce",
   "metadata": {},
   "outputs": [],
   "source": [
    "# Putting CustID to index\n",
    "y_test_df['ID'] = y_test_df.index"
   ]
  },
  {
   "cell_type": "code",
   "execution_count": null,
   "id": "419ac213-6845-47b5-8fe0-3c0cfc26ee17",
   "metadata": {},
   "outputs": [],
   "source": [
    "# Removing index for both dataframes to append them side by side \n",
    "y_pred_1.reset_index(drop=True, inplace=True)\n",
    "y_test_df.reset_index(drop=True, inplace=True)"
   ]
  },
  {
   "cell_type": "code",
   "execution_count": null,
   "id": "04cc39d8-e1de-4350-85e9-b3a880231a18",
   "metadata": {},
   "outputs": [],
   "source": [
    "# Appending y_test_df and y_pred_1\n",
    "y_pred_final = pd.concat([y_test_df, y_pred_1],axis=1)"
   ]
  },
  {
   "cell_type": "code",
   "execution_count": null,
   "id": "41a0e225-7576-4b29-a6f4-bd371c652344",
   "metadata": {},
   "outputs": [],
   "source": [
    "y_pred_final.head()"
   ]
  },
  {
   "cell_type": "code",
   "execution_count": null,
   "id": "d7e78f6c-a0b0-41a5-a777-ed26c9eb8f2e",
   "metadata": {},
   "outputs": [],
   "source": [
    "y_pred_final = y_pred_final.rename(columns={0:\"Water_Quality_Pred\"})"
   ]
  },
  {
   "cell_type": "code",
   "execution_count": null,
   "id": "3116ab04-11c1-4758-9aef-49a550494837",
   "metadata": {},
   "outputs": [],
   "source": [
    "y_pred_final.head(4)"
   ]
  },
  {
   "cell_type": "code",
   "execution_count": null,
   "id": "09404b55-3dc8-4ad0-a8b9-07e1c2383108",
   "metadata": {},
   "outputs": [],
   "source": [
    "y_pred_final.Water_Quality_Pred.value_counts()"
   ]
  },
  {
   "cell_type": "code",
   "execution_count": null,
   "id": "6e2f29c5-953f-4ca2-b8f9-6ba10ccb4872",
   "metadata": {},
   "outputs": [],
   "source": [
    "y_test.value_counts()"
   ]
  },
  {
   "cell_type": "code",
   "execution_count": null,
   "id": "f6fb6a62-105d-478b-b73d-9ffc6274f28d",
   "metadata": {},
   "outputs": [],
   "source": [
    "import pickle\n",
    "pickle.dump(xgb,open('model.pkl','wb'))"
   ]
  },
  {
   "cell_type": "code",
   "execution_count": null,
   "id": "54bf418c",
   "metadata": {},
   "outputs": [],
   "source": [
    "model=pickle.load(open('model.pkl','rb'))"
   ]
  },
  {
   "cell_type": "code",
   "execution_count": null,
   "id": "46758aab",
   "metadata": {},
   "outputs": [],
   "source": [
    "model"
   ]
  },
  {
   "cell_type": "code",
   "execution_count": null,
   "id": "cd3b6ef5",
   "metadata": {},
   "outputs": [],
   "source": []
  }
 ],
 "metadata": {
  "kernelspec": {
   "display_name": "Python 3",
   "language": "python",
   "name": "python3"
  },
  "language_info": {
   "codemirror_mode": {
    "name": "ipython",
    "version": 3
   },
   "file_extension": ".py",
   "mimetype": "text/x-python",
   "name": "python",
   "nbconvert_exporter": "python",
   "pygments_lexer": "ipython3",
   "version": "3.8.8"
  }
 },
 "nbformat": 4,
 "nbformat_minor": 5
}
